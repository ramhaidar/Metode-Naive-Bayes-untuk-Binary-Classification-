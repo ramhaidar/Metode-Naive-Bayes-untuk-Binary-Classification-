{
  "cells": [
    {
      "cell_type": "markdown",
      "metadata": {},
      "source": [
        "### **Disclaimer**\n",
        "This program was developed as part of the Programming Assignment for the \"Introduction to Artificial Intelligence\" course by:  \n",
        "- Filza Rahma Muflihah (1301201261)  \n",
        "- Ummu Husnul Khatimah (1301204120)  \n",
        "\n",
        "<br>\n",
        "\n",
        "---\n",
        "\n",
        "### **Instructions**\n",
        "1. **Running on Google Colab**:  \n",
        "   - Upload the `traintest.xlsx` file before executing the code.  \n",
        "   - Use the \"Files\" tab on the left-hand side to upload the file.  \n",
        "\n",
        "2. **Running Locally**:  \n",
        "   - Install Python and the required libraries on your machine.  \n",
        "   - Ensure that the `traintest.xlsx` file is in the same directory as this script.  \n",
        "   - Execute the script using a Python IDE or the command line.  \n",
        "\n",
        "<br>\n",
        "\n",
        "---"
      ]
    },
    {
      "cell_type": "markdown",
      "metadata": {},
      "source": [
        "### **Code Implementation**\n",
        "Below is the refactored Python code with clear structure and comments to explain each section's purpose."
      ]
    },
    {
      "cell_type": "code",
      "execution_count": 1,
      "metadata": {
        "id": "pc5knJ989euN"
      },
      "outputs": [],
      "source": [
        "# Import necessary libraries\n",
        "import pandas as pd"
      ]
    },
    {
      "cell_type": "markdown",
      "metadata": {},
      "source": [
        "### STEP 1: Load Training and Testing Data"
      ]
    },
    {
      "cell_type": "code",
      "execution_count": 2,
      "metadata": {
        "colab": {
          "base_uri": "https://localhost:8080/"
        },
        "id": "14DKYGg_978d",
        "outputId": "c64f7b6b-f29e-4180-fd98-c62fa4d3855e"
      },
      "outputs": [
        {
          "name": "stdout",
          "output_type": "stream",
          "text": [
            "---- Training Data ----\n",
            "      id  x1  x2  x3  y\n",
            "0      1  60  64   0  1\n",
            "1      2  54  60  11  0\n",
            "2      3  65  62  22  0\n",
            "3      4  34  60   0  1\n",
            "4      5  38  69  21  0\n",
            "..   ...  ..  ..  .. ..\n",
            "291  292  59  64   1  1\n",
            "292  293  65  67   0  1\n",
            "293  294  53  65  12  0\n",
            "294  295  57  64   1  0\n",
            "295  296  54  59   7  1\n",
            "\n",
            "[296 rows x 5 columns]\n"
          ]
        }
      ],
      "source": [
        "# Read the Excel file\n",
        "excel_file = pd.ExcelFile('traintest.xlsx')\n",
        "\n",
        "# Load the training and testing datasets\n",
        "train_data = pd.read_excel(excel_file, 'train')\n",
        "test_data = pd.read_excel(excel_file, 'test')\n",
        "\n",
        "# Display the training data\n",
        "print(\"---- Training Data ----\")\n",
        "print(train_data)\n",
        "\n",
        "# Convert training data to a dictionary for processing\n",
        "train_dict = train_data.to_dict('records')"
      ]
    },
    {
      "cell_type": "markdown",
      "metadata": {},
      "source": [
        "### STEP 2: Data Preprocessing and Statistics Calculation"
      ]
    },
    {
      "cell_type": "code",
      "execution_count": 3,
      "metadata": {
        "colab": {
          "base_uri": "https://localhost:8080/"
        },
        "id": "sauciT7OdJ9t",
        "outputId": "6d9164cd-8cf9-4983-ee1e-4337e9edade5"
      },
      "outputs": [
        {
          "name": "stdout",
          "output_type": "stream",
          "text": [
            "\n",
            "---- Class Statistics ----\n",
            "Class Counts:\n",
            "  Class 0: 78\n",
            "  Class 1: 218\n",
            "\n",
            "Feature: x1\n",
            "+-------+-------------------+\n",
            "| Value |   Count (y=0)    |   Count (y=1)    |\n",
            "+-------+-------------------+\n",
            "| 30    | 0                | 3                |\n",
            "| 31    | 0                | 2                |\n",
            "| 33    | 0                | 2                |\n",
            "| 34    | 2                | 5                |\n",
            "| 35    | 0                | 2                |\n",
            "| 36    | 0                | 2                |\n",
            "| 37    | 0                | 6                |\n",
            "| 38    | 1                | 9                |\n",
            "| 39    | 1                | 5                |\n",
            "| 40    | 0                | 3                |\n",
            "| 41    | 3                | 7                |\n",
            "| 42    | 1                | 7                |\n",
            "| 43    | 3                | 7                |\n",
            "| 44    | 3                | 4                |\n",
            "| 45    | 3                | 5                |\n",
            "| 46    | 4                | 3                |\n",
            "| 47    | 3                | 8                |\n",
            "| 48    | 3                | 4                |\n",
            "| 49    | 2                | 7                |\n",
            "| 50    | 2                | 9                |\n",
            "| 51    | 2                | 4                |\n",
            "| 52    | 4                | 10               |\n",
            "| 53    | 6                | 5                |\n",
            "| 54    | 4                | 8                |\n",
            "| 55    | 2                | 8                |\n",
            "| 56    | 1                | 5                |\n",
            "| 57    | 3                | 8                |\n",
            "| 58    | 0                | 6                |\n",
            "| 59    | 1                | 6                |\n",
            "| 60    | 2                | 4                |\n",
            "| 61    | 3                | 6                |\n",
            "| 62    | 3                | 4                |\n",
            "| 63    | 1                | 7                |\n",
            "| 64    | 0                | 5                |\n",
            "| 65    | 4                | 6                |\n",
            "| 66    | 2                | 3                |\n",
            "| 67    | 2                | 3                |\n",
            "| 68    | 0                | 2                |\n",
            "| 69    | 1                | 3                |\n",
            "| 70    | 2                | 5                |\n",
            "| 71    | 0                | 1                |\n",
            "| 72    | 1                | 3                |\n",
            "| 73    | 0                | 2                |\n",
            "| 74    | 1                | 1                |\n",
            "| 75    | 0                | 1                |\n",
            "| 76    | 0                | 1                |\n",
            "| 77    | 0                | 1                |\n",
            "| 78    | 1                | 0                |\n",
            "| 83    | 1                | 0                |\n",
            "+-------+-------------------+\n",
            "\n",
            "Feature: x2\n",
            "+-------+-------------------+\n",
            "| Value |   Count (y=0)    |   Count (y=1)    |\n",
            "+-------+-------------------+\n",
            "| 58    | 12               | 23               |\n",
            "| 59    | 8                | 17               |\n",
            "| 60    | 4                | 21               |\n",
            "| 61    | 3                | 23               |\n",
            "| 62    | 7                | 16               |\n",
            "| 63    | 8                | 21               |\n",
            "| 64    | 8                | 23               |\n",
            "| 65    | 13               | 15               |\n",
            "| 66    | 5                | 21               |\n",
            "| 67    | 4                | 21               |\n",
            "| 68    | 3                | 10               |\n",
            "| 69    | 3                | 7                |\n",
            "+-------+-------------------+\n",
            "\n",
            "Feature: x3\n",
            "+-------+-------------------+\n",
            "| Value |   Count (y=0)    |   Count (y=1)    |\n",
            "+-------+-------------------+\n",
            "| 0     | 19               | 114              |\n",
            "| 1     | 7                | 32               |\n",
            "| 2     | 4                | 14               |\n",
            "| 3     | 6                | 11               |\n",
            "| 4     | 3                | 10               |\n",
            "| 5     | 4                | 2                |\n",
            "| 6     | 3                | 4                |\n",
            "| 7     | 2                | 5                |\n",
            "| 8     | 2                | 5                |\n",
            "| 9     | 4                | 2                |\n",
            "| 10    | 1                | 2                |\n",
            "| 11    | 3                | 1                |\n",
            "| 12    | 1                | 1                |\n",
            "| 13    | 4                | 1                |\n",
            "| 14    | 1                | 3                |\n",
            "| 15    | 2                | 1                |\n",
            "| 16    | 0                | 1                |\n",
            "| 17    | 1                | 0                |\n",
            "| 18    | 0                | 1                |\n",
            "| 19    | 2                | 1                |\n",
            "| 20    | 1                | 1                |\n",
            "| 21    | 1                | 0                |\n",
            "| 22    | 1                | 2                |\n",
            "| 23    | 3                | 0                |\n",
            "| 24    | 1                | 0                |\n",
            "| 25    | 0                | 1                |\n",
            "| 28    | 0                | 1                |\n",
            "| 30    | 0                | 1                |\n",
            "| 35    | 1                | 0                |\n",
            "| 46    | 0                | 1                |\n",
            "| 52    | 1                | 0                |\n",
            "+-------+-------------------+\n"
          ]
        }
      ],
      "source": [
        "# Initialize data tracking dictionaries\n",
        "class_counts = {'0': 0, '1': 0}\n",
        "feature_x1_stats = {}\n",
        "feature_x2_stats = {}\n",
        "feature_x3_stats = {}\n",
        "\n",
        "# Define helper function to count feature occurrences\n",
        "def count_feature_occurrences(value, label, feature_dict):\n",
        "    if value not in feature_dict:\n",
        "        feature_dict[value] = {'0': 0, '1': 0}\n",
        "    feature_dict[value][label] += 1\n",
        "    return feature_dict\n",
        "\n",
        "# Calculate counts for each class and feature\n",
        "for record in train_dict:\n",
        "    label = str(record['y'])\n",
        "    feature_x1 = record['x1']\n",
        "    feature_x2 = record['x2']\n",
        "    feature_x3 = record['x3']\n",
        "\n",
        "    class_counts[label] += 1\n",
        "    feature_x1_stats = count_feature_occurrences(feature_x1, label, feature_x1_stats)\n",
        "    feature_x2_stats = count_feature_occurrences(feature_x2, label, feature_x2_stats)\n",
        "    feature_x3_stats = count_feature_occurrences(feature_x3, label, feature_x3_stats)\n",
        "\n",
        "# Sort features for consistent display\n",
        "feature_x1_stats = dict(sorted(feature_x1_stats.items()))\n",
        "feature_x2_stats = dict(sorted(feature_x2_stats.items()))\n",
        "feature_x3_stats = dict(sorted(feature_x3_stats.items()))\n",
        "\n",
        "# Display class statistics\n",
        "print(\"\\n---- Class Statistics ----\")\n",
        "print(\"Class Counts:\")\n",
        "for key, value in class_counts.items():\n",
        "    print(f\"  Class {key}: {value}\")\n",
        "\n",
        "# Define a helper function to display feature statistics\n",
        "def display_feature_statistics(feature_name, stats):\n",
        "    print(f\"\\nFeature: {feature_name}\")\n",
        "    print(\"+-------+-------------------+\")\n",
        "    print(\"| Value |   Count (y=0)    |   Count (y=1)    |\")\n",
        "    print(\"+-------+-------------------+\")\n",
        "    for value, counts in stats.items():\n",
        "        print(f\"| {value:<5} | {counts['0']:<16} | {counts['1']:<16} |\")\n",
        "    print(\"+-------+-------------------+\")\n",
        "\n",
        "# Display statistics for each feature\n",
        "display_feature_statistics(\"x1\", feature_x1_stats)\n",
        "display_feature_statistics(\"x2\", feature_x2_stats)\n",
        "display_feature_statistics(\"x3\", feature_x3_stats)"
      ]
    },
    {
      "cell_type": "markdown",
      "metadata": {},
      "source": [
        "### STEP 3: Apply Laplace Smoothing"
      ]
    },
    {
      "cell_type": "code",
      "execution_count": 4,
      "metadata": {},
      "outputs": [],
      "source": [
        "def apply_laplace_smoothing(data_dict, classes):\n",
        "    for value in data_dict.keys():\n",
        "        for cls in classes:\n",
        "            data_dict[value][cls] += 1\n",
        "    return data_dict\n",
        "\n",
        "# Apply Laplace correction to class counts and features\n",
        "class_counts['0'] += 1\n",
        "class_counts['1'] += 1\n",
        "\n",
        "feature_x1_stats = apply_laplace_smoothing(feature_x1_stats, ['0', '1'])\n",
        "feature_x2_stats = apply_laplace_smoothing(feature_x2_stats, ['0', '1'])\n",
        "feature_x3_stats = apply_laplace_smoothing(feature_x3_stats, ['0', '1'])"
      ]
    },
    {
      "cell_type": "markdown",
      "metadata": {},
      "source": [
        "### STEP 4: Train Naive Bayes Model"
      ]
    },
    {
      "cell_type": "code",
      "execution_count": 5,
      "metadata": {},
      "outputs": [],
      "source": [
        "# Calculate prior probabilities\n",
        "total_samples = class_counts['0'] + class_counts['1']\n",
        "prior_probabilities = {\n",
        "    '0': class_counts['0'] / total_samples,\n",
        "    '1': class_counts['1'] / total_samples,\n",
        "}\n",
        "\n",
        "# Calculate likelihood probabilities for each feature\n",
        "def calculate_likelihoods(feature_stats, class_counts):\n",
        "    likelihoods = {}\n",
        "    for value, counts in feature_stats.items():\n",
        "        likelihoods[value] = {\n",
        "            '0': counts['0'] / class_counts['0'],\n",
        "            '1': counts['1'] / class_counts['1'],\n",
        "        }\n",
        "    return likelihoods\n",
        "\n",
        "likelihood_x1 = calculate_likelihoods(feature_x1_stats, class_counts)\n",
        "likelihood_x2 = calculate_likelihoods(feature_x2_stats, class_counts)\n",
        "likelihood_x3 = calculate_likelihoods(feature_x3_stats, class_counts)"
      ]
    },
    {
      "cell_type": "markdown",
      "metadata": {},
      "source": [
        "### STEP 5: Test the Model"
      ]
    },
    {
      "cell_type": "code",
      "execution_count": 6,
      "metadata": {},
      "outputs": [
        {
          "name": "stdout",
          "output_type": "stream",
          "text": [
            "\n",
            "---- Predictions ----\n",
            "    id  x1  x2  x3  y\n",
            "0  297  43  59   2  1\n",
            "1  298  67  66   0  1\n",
            "2  299  58  60   3  1\n",
            "3  300  49  63   3  1\n",
            "4  301  45  60   0  1\n",
            "5  302  54  58   1  1\n",
            "6  303  56  66   3  1\n",
            "7  304  42  69   1  1\n",
            "8  305  50  59   2  1\n",
            "9  306  59  60   0  1\n"
          ]
        }
      ],
      "source": [
        "# Define Naive Bayes prediction function\n",
        "def naive_bayes_predict(record, priors, likelihoods_x1, likelihoods_x2, likelihoods_x3):\n",
        "    prob_y0 = (\n",
        "        priors['0']\n",
        "        * likelihoods_x1[record['x1']]['0']\n",
        "        * likelihoods_x2[record['x2']]['0']\n",
        "        * likelihoods_x3[record['x3']]['0']\n",
        "    )\n",
        "    prob_y1 = (\n",
        "        priors['1']\n",
        "        * likelihoods_x1[record['x1']]['1']\n",
        "        * likelihoods_x2[record['x2']]['1']\n",
        "        * likelihoods_x3[record['x3']]['1']\n",
        "    )\n",
        "    return 0 if prob_y0 > prob_y1 else 1\n",
        "\n",
        "# Predict labels for the test set and update the DataFrame directly\n",
        "predictions = []\n",
        "for record in test_data.to_dict('records'):\n",
        "    prediction = naive_bayes_predict(\n",
        "        record,\n",
        "        prior_probabilities,\n",
        "        likelihood_x1,\n",
        "        likelihood_x2,\n",
        "        likelihood_x3,\n",
        "    )\n",
        "    predictions.append(prediction)\n",
        "\n",
        "# Update the 'y' column in the test_data DataFrame\n",
        "test_data['y'] = predictions\n",
        "\n",
        "# Display predictions\n",
        "print(\"\\n---- Predictions ----\")\n",
        "print(test_data)\n"
      ]
    },
    {
      "cell_type": "markdown",
      "metadata": {},
      "source": [
        "### STEP 6: Evaluate Model Accuracy"
      ]
    },
    {
      "cell_type": "code",
      "execution_count": 7,
      "metadata": {},
      "outputs": [
        {
          "name": "stdout",
          "output_type": "stream",
          "text": [
            "\n",
            "---- Model Accuracy ----\n",
            "\n",
            "Accuracy: 82.77%\n",
            "\n",
            "Predictions saved to predictions.xlsx\n"
          ]
        }
      ],
      "source": [
        "def calculate_accuracy(dataset, priors, likelihoods_x1, likelihoods_x2, likelihoods_x3):\n",
        "    correct_predictions = 0\n",
        "    for record in dataset:\n",
        "        predicted_label = naive_bayes_predict(\n",
        "            record, priors, likelihoods_x1, likelihoods_x2, likelihoods_x3\n",
        "        )\n",
        "        if predicted_label == record['y']:\n",
        "            correct_predictions += 1\n",
        "    accuracy = correct_predictions / len(dataset) * 100\n",
        "    print(f\"\\nAccuracy: {accuracy:.2f}%\")\n",
        "\n",
        "# Calculate and display accuracy on training data\n",
        "print(\"\\n---- Model Accuracy ----\")\n",
        "calculate_accuracy(train_dict, prior_probabilities, likelihood_x1, likelihood_x2, likelihood_x3)\n",
        "\n",
        "# Save predictions to an Excel file\n",
        "output_filename = \"predictions.xlsx\"\n",
        "test_data.to_excel(output_filename, index=False)\n",
        "print(f\"\\nPredictions saved to {output_filename}\")"
      ]
    }
  ],
  "metadata": {
    "colab": {
      "collapsed_sections": [],
      "provenance": []
    },
    "kernelspec": {
      "display_name": "Python 3",
      "language": "python",
      "name": "python3"
    },
    "language_info": {
      "codemirror_mode": {
        "name": "ipython",
        "version": 3
      },
      "file_extension": ".py",
      "mimetype": "text/x-python",
      "name": "python",
      "nbconvert_exporter": "python",
      "pygments_lexer": "ipython3",
      "version": "3.11.0"
    }
  },
  "nbformat": 4,
  "nbformat_minor": 0
}
